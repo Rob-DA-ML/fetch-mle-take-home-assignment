{
 "cells": [
  {
   "cell_type": "markdown",
   "metadata": {},
   "source": [
    "# 01 Sentence Transformer Demo\n",
    "\n",
    "In this notebook, we will:\n",
    "1. Load a Sentence Transformer model.\n",
    "2. Encode some sample sentences.\n",
    "3. Inspect and print the resulting embeddings.\n"
   ]
  },
  {
   "cell_type": "code",
   "metadata": {},
   "source": [
    "import torch\n",
    "from transformers import AutoTokenizer\n",
    "from src.model import SentenceTransformerModel\n",
    "\n",
    "# Create model & tokenizer\n",
    "model_name = 'distilbert-base-uncased'\n",
    "tokenizer = AutoTokenizer.from_pretrained(model_name)\n",
    "model = SentenceTransformerModel(model_name=model_name, pooling='mean')\n",
    "model.eval()\n",
    "\n",
    "sentences = [\n",
    "    \"Hello, how are you?\",\n",
    "    \"I love exploring deep learning techniques.\",\n",
    "    \"Sentence transformers encode text into embeddings.\"\n",
    "]\n",
    "\n",
    "encoded = tokenizer(\n",
    "    sentences,\n",
    "    padding=True,\n",
    "    truncation=True,\n",
    "    max_length=32,\n",
    "    return_tensors='pt'\n",
    ")\n",
    "\n",
    "with torch.no_grad():\n",
    "    embeddings = model(encoded['input_ids'], encoded['attention_mask'])\n",
    "\n",
    "print('Embeddings shape:', embeddings.shape)\n",
    "for i, sentence in enumerate(sentences):\n",
    "    print(f\"\\nSentence: {sentence}\")\n",
    "    print(\"Embedding (first 5 values):\", embeddings[i][:5])\n"
   ],
   "execution_count": null,
   "outputs": []
  }
 ],
 "metadata": {
  "kernelspec": {
   "display_name": "Python 3",
   "language": "python",
   "name": "python3"
  },
  "language_info": {
   "name": "python"
  }
 },
 "nbformat": 4,
 "nbformat_minor": 2
}
