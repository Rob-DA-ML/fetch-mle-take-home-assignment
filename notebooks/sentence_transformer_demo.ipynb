{
  "nbformat": 4,
  "nbformat_minor": 0,
  "metadata": {
    "colab": {
      "provenance": [],
      "authorship_tag": "ABX9TyMrrMqZanqYvGxUpaBXcU6h"
    },
    "kernelspec": {
      "name": "python3",
      "display_name": "Python 3"
    },
    "language_info": {
      "name": "python"
    }
  },
  "cells": [
    {
      "cell_type": "markdown",
      "source": [
        "# Sentence Transformer Demo\n",
        "\n",
        "In this notebook, we will:\n",
        "\n",
        "- Load a Sentence Transformer model\n",
        "- Encode some sample sentences\n",
        "- Inspect and print the resulting embeddings"
      ],
      "metadata": {
        "id": "KwcYHiic4U-h"
      }
    },
    {
      "cell_type": "code",
      "source": [
        "import torch\n",
        "from transformers import AutoTokenizer\n",
        "from src.model import SentenceTransformerModel\n",
        "\n",
        "# Create model & tokenizer\n",
        "model_name = 'distilbert-base-uncased'\n",
        "tokenizer = AutoTokenizer.from_pretrained(model_name)\n",
        "model = SentenceTransformerModel(model_name=model_name, pooling='mean')\n",
        "model.eval()\n",
        "\n",
        "sentences = [\n",
        "    \"Hello, how are you?\",\n",
        "    \"I love exploring deep learning techniques.\",\n",
        "    \"Sentence transformers encode text into embeddings.\"\n",
        "]\n",
        "\n",
        "encoded = tokenizer(\n",
        "    sentences,\n",
        "    padding=True,\n",
        "    truncation=True,\n",
        "    max_length=32,\n",
        "    return_tensors='pt'\n",
        ")\n",
        "\n",
        "with torch.no_grad():\n",
        "    embeddings = model(encoded['input_ids'], encoded['attention_mask'])\n",
        "\n",
        "print('Embeddings shape:', embeddings.shape)\n",
        "for i, sentence in enumerate(sentences):\n",
        "    print(f\"\\nSentence: {sentence}\")\n",
        "    print(\"Embedding (first 5 values):\", embeddings[i][:5])"
      ],
      "metadata": {
        "colab": {
          "base_uri": "https://localhost:8080/"
        },
        "id": "5J-Oxp7W4Gq6",
        "outputId": "811d78ed-58eb-4268-ee38-1707c27ca2d3"
      },
      "execution_count": 6,
      "outputs": [
        {
          "output_type": "stream",
          "name": "stdout",
          "text": [
            "Embeddings shape: torch.Size([3, 256])\n",
            "\n",
            "Sentence: Hello, how are you?\n",
            "Embedding (first 5 values): tensor([ 0.0420, -0.1092, -0.0064, -0.0521, -0.0463])\n",
            "\n",
            "Sentence: I love exploring deep learning techniques.\n",
            "Embedding (first 5 values): tensor([-0.0459, -0.0822,  0.0737,  0.0821, -0.0132])\n",
            "\n",
            "Sentence: Sentence transformers encode text into embeddings.\n",
            "Embedding (first 5 values): tensor([-0.2098, -0.1235,  0.1296,  0.1418,  0.0641])\n"
          ]
        }
      ]
    },
    {
      "cell_type": "code",
      "source": [],
      "metadata": {
        "id": "NT9CvHTa4Wp-"
      },
      "execution_count": null,
      "outputs": []
    }
  ]
}