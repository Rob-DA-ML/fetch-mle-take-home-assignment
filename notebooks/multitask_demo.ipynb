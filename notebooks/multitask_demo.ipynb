{
 "cells": [
  {
   "cell_type": "markdown",
   "metadata": {},
   "source": [
    "# 02 Multi-Task Transformer Demo\n",
    "\n",
    "This notebook demonstrates:\n",
    "1. A multi-task model with a shared backbone.\n",
    "2. Sentence-level classification.\n",
    "3. Token-level classification (e.g., NER).\n"
   ]
  },
  {
   "cell_type": "code",
   "metadata": {},
   "source": [
    "import torch\n",
    "from transformers import AutoTokenizer\n",
    "from src.multitask_model import MultiTaskSentenceTransformer\n",
    "\n",
    "# Initialize multi-task model\n",
    "model_name = 'distilbert-base-uncased'\n",
    "model = MultiTaskSentenceTransformer(\n",
    "    model_name=model_name,\n",
    "    num_classes_task_a=3,  # e.g., 3 possible classes\n",
    "    num_labels_task_b=5,   # e.g., 5 labels for NER\n",
    "    pooling='mean'\n",
    ")\n",
    "model.eval()\n",
    "\n",
    "tokenizer = AutoTokenizer.from_pretrained(model_name)\n",
    "\n",
    "sentences = [\n",
    "    \"Barack Obama was the 44th President of the United States.\",\n",
    "    \"I love exploring advanced transformer architectures.\"\n",
    "]\n",
    "\n",
    "encoded = tokenizer(\n",
    "    sentences,\n",
    "    padding=True,\n",
    "    truncation=True,\n",
    "    max_length=32,\n",
    "    return_tensors='pt'\n",
    ")\n",
    "\n",
    "with torch.no_grad():\n",
    "    outputs = model(encoded['input_ids'], encoded['attention_mask'])\n",
    "\n",
    "task_a_logits = outputs['task_a_logits']\n",
    "task_b_logits = outputs['task_b_logits']\n",
    "\n",
    "print('Task A logits:', task_a_logits)\n",
    "print('Task B logits shape:', task_b_logits.shape)\n",
    "\n",
    "# Inspect tokens for token-level classification\n",
    "tokens_batch = [tokenizer.convert_ids_to_tokens(ids) for ids in encoded['input_ids']]\n",
    "for i, tokens in enumerate(tokens_batch):\n",
    "    print(f\"\\nSentence {i+1} tokens:\", tokens)\n",
    "    print(\"Task B logits for each token:\", task_b_logits[i].shape)\n"
   ],
   "execution_count": null,
   "outputs": []
  }
 ],
 "metadata": {
  "kernelspec": {
   "display_name": "Python 3",
   "language": "python",
   "name": "python3"
  },
  "language_info": {
   "name": "python"
  }
 },
 "nbformat": 4,
 "nbformat_minor": 2
}
