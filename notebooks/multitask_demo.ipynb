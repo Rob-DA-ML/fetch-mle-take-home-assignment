{
  "nbformat": 4,
  "nbformat_minor": 0,
  "metadata": {
    "colab": {
      "provenance": [],
      "authorship_tag": "ABX9TyNph3z7V7/bxIuozbWhV+1O"
    },
    "kernelspec": {
      "name": "python3",
      "display_name": "Python 3"
    },
    "language_info": {
      "name": "python"
    }
  },
  "cells": [
    {
      "cell_type": "markdown",
      "source": [
        "# Multi-Task Transformer Demo\n",
        "\n",
        "This notebook demonstrates:\n",
        "\n",
        "- A multi-task model with a shared backbone.\n",
        "- Sentence-level classification.\n",
        "- Token-level classification (e.g., NER).\n"
      ],
      "metadata": {
        "id": "CQ1Jgb5Q3DbS"
      }
    },
    {
      "cell_type": "code",
      "source": [
        "import torch\n",
        "from transformers import AutoTokenizer\n",
        "from src.multitask_model import MultiTaskSentenceTransformer\n",
        "\n",
        "# Initialize multi-task model\n",
        "model_name = 'distilbert-base-uncased'\n",
        "model = MultiTaskSentenceTransformer(\n",
        "    model_name=model_name,\n",
        "    num_classes_task_a=3,  # e.g., 3 possible classes\n",
        "    num_labels_task_b=5,   # e.g., 5 labels for NER\n",
        "    pooling='mean'\n",
        ")\n",
        "model.eval()\n",
        "\n",
        "tokenizer = AutoTokenizer.from_pretrained(model_name)\n",
        "\n",
        "sentences = [\n",
        "    \"Barack Obama was the 44th President of the United States.\",\n",
        "    \"I love exploring advanced transformer architectures.\"\n",
        "]\n",
        "\n",
        "encoded = tokenizer(\n",
        "    sentences,\n",
        "    padding=True,\n",
        "    truncation=True,\n",
        "    max_length=32,\n",
        "    return_tensors='pt'\n",
        ")\n",
        "\n",
        "with torch.no_grad():\n",
        "    outputs = model(encoded['input_ids'], encoded['attention_mask'])\n",
        "\n",
        "task_a_logits = outputs['task_a_logits']\n",
        "task_b_logits = outputs['task_b_logits']\n",
        "\n",
        "print('Task A logits:', task_a_logits)\n",
        "print('Task B logits shape:', task_b_logits.shape)\n",
        "\n",
        "# Inspect tokens for token-level classification\n",
        "tokens_batch = [tokenizer.convert_ids_to_tokens(ids) for ids in encoded['input_ids']]\n",
        "for i, tokens in enumerate(tokens_batch):\n",
        "    print(f\"\\nSentence {i+1} tokens:\", tokens)\n",
        "    print(\"Task B logits for each token:\", task_b_logits[i].shape)"
      ],
      "metadata": {
        "colab": {
          "base_uri": "https://localhost:8080/"
        },
        "id": "3MQizNKW2-vV",
        "outputId": "e9b7f6a7-58e2-4f39-9c4b-9776d5774ba9"
      },
      "execution_count": 16,
      "outputs": [
        {
          "output_type": "stream",
          "name": "stdout",
          "text": [
            "Task A logits: tensor([[-0.0393, -0.0854,  0.0434],\n",
            "        [-0.0255,  0.0124, -0.0446]])\n",
            "Task B logits shape: torch.Size([2, 13, 5])\n",
            "\n",
            "Sentence 1 tokens: ['[CLS]', 'barack', 'obama', 'was', 'the', '44th', 'president', 'of', 'the', 'united', 'states', '.', '[SEP]']\n",
            "Task B logits for each token: torch.Size([13, 5])\n",
            "\n",
            "Sentence 2 tokens: ['[CLS]', 'i', 'love', 'exploring', 'advanced', 'transform', '##er', 'architecture', '##s', '.', '[SEP]', '[PAD]', '[PAD]']\n",
            "Task B logits for each token: torch.Size([13, 5])\n"
          ]
        }
      ]
    },
    {
      "cell_type": "code",
      "source": [],
      "metadata": {
        "id": "NyYsh2lP1_k-"
      },
      "execution_count": null,
      "outputs": []
    }
  ]
}